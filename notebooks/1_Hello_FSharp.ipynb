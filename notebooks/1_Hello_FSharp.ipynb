{
 "cells": [
  {
   "cell_type": "markdown",
   "metadata": {},
   "source": [
    "<h1 Style=\"font-size: 3rem\" >Übung 1 - Hello F#</h1>\n",
    "\n",
    "1. [Das 'let' - Binding](#Das-'let'---Binding)\n",
    "2. [Die \"printfn\" - Funktion](#Die-\"printfn\"---Funktion)\n",
    "3. [Primitive Datentypen und Funktionen](#Primitive-Datentypen-und-Funktionen)\n",
    "\n",
    "<div Style=\"max-width: 85%\">\n",
    "<div Style=\"text-align: justify ; font-size: 1.8rem ; margin-top: 2rem ; line-height: 1.5\">\n",
    "Erst einmal die absoluten Basics:\n",
    "</div>\n",
    "</div>"
   ]
  },
  {
   "cell_type": "code",
   "execution_count": 1,
   "metadata": {},
   "outputs": [
    {
     "data": {
      "text/plain": [
       "10"
      ]
     },
     "execution_count": 1,
     "metadata": {},
     "output_type": "execute_result"
    }
   ],
   "source": [
    "10"
   ]
  },
  {
   "cell_type": "markdown",
   "metadata": {},
   "source": [
    "<div Style=\"max-width: 85%\">\n",
    "<div Style=\"text-align: justify ; font-size: 1.8rem ; margin-top: 2rem ; line-height: 1.5\">\n",
    "Wählt den Kasten mit der '10' und drückt Strg+Enter, dann solltet ihr unter dem Kasten einen Output, der '10' sein sollte bekommen.\n",
    "(Bei einzeiligem Code könnt ihr auch einfach die Zeile auswählen und Alt+Enter drücken ohne das alles markiert ist.)\n",
    "Auf diese Weise könnte ihr Code den ihr geschrieben habt, direkt testen und euch den Output ansehen.<br><br>\n",
    "Versucht das mal mit der folgenden Zeile und ihr werdet sehen, dass das Ergebnis direkt ausgerechnet wird und '30' ist.\n",
    "</div>\n",
    "</div>"
   ]
  },
  {
   "cell_type": "code",
   "execution_count": 2,
   "metadata": {},
   "outputs": [
    {
     "data": {
      "text/plain": [
       "30"
      ]
     },
     "execution_count": 2,
     "metadata": {},
     "output_type": "execute_result"
    }
   ],
   "source": [
    "10 + 20"
   ]
  },
  {
   "cell_type": "markdown",
   "metadata": {},
   "source": [
    "<div Style=\"max-width: 85%\">\n",
    "<div Style=\"text-align: justify ; font-size: 1.8rem ; margin-top: 2rem ; line-height: 1.5\">\n",
    "Alles was ihr hinter \"//\" und zwischen (*..*) schreibt ist ein Kommentar und wird nicht als Code ausgeführt.\n",
    "</div>\n",
    "</div>"
   ]
  },
  {
   "cell_type": "code",
   "execution_count": 3,
   "metadata": {},
   "outputs": [
    {
     "data": {
      "text/plain": [
       "40"
      ]
     },
     "execution_count": 3,
     "metadata": {},
     "output_type": "execute_result"
    }
   ],
   "source": [
    "10 (*+ 40 *) + 30 // + 10"
   ]
  },
  {
   "cell_type": "markdown",
   "metadata": {},
   "source": [
    "<h1 Style=\"font-size: 2.5rem\" >Aufgaben für Übung 1</h1>\n",
    "\n",
    "<div Style=\"max-width: 85%\">\n",
    "<div Style=\"text-align: justify ; font-size: 1.8rem ; margin-top: 2rem ; line-height: 1.5\">\n",
    "Solltet ihr bei einer Übung nicht auf die Lösung kommen, lasst auf jeden Fall euren Lösungsansatz stehen!\n",
    "</div>\n",
    "</div>\n",
    "\n",
    "<h1 Style=\"font-size: 2.25rem\" >Das 'let' - Binding</h1>\n",
    "<h1 Style=\"font-size: 2rem\" >Aufgabe 1</h1>\n",
    "<h1 Style=\"font-size: 2rem\" >1.1</h1>\n",
    "<div Style=\"max-width: 85%\">\n",
    "<div Style=\"text-align: justify ; font-size: 1.8rem ; margin-top: 2rem ; line-height: 1.5\">\n",
    "Binde den Wert 10 an den Namen 'x'. Binde den Wert 20 an den Namen 'kaesebrot'.\n",
    "</div>\n",
    "</div>"
   ]
  },
  {
   "cell_type": "code",
   "execution_count": null,
   "metadata": {},
   "outputs": [],
   "source": []
  },
  {
   "cell_type": "markdown",
   "metadata": {},
   "source": [
    "<h1 Style=\"font-size: 2rem\" >1.2</h1>\n",
    "<div Style=\"max-width: 85%\">\n",
    "<div Style=\"text-align: justify ; font-size: 1.8rem ; margin-top: 2rem ; line-height: 1.5\">\n",
    "Binde das Ergebnis der Addition von 'x' mit dem Wert 10 an 'y'.\n",
    "</div>\n",
    "</div>"
   ]
  },
  {
   "cell_type": "code",
   "execution_count": null,
   "metadata": {},
   "outputs": [],
   "source": []
  },
  {
   "cell_type": "markdown",
   "metadata": {},
   "source": [
    "<h1 Style=\"font-size: 2rem\" >1.3</h1>\n",
    "<div Style=\"max-width: 85%\">\n",
    "<div Style=\"text-align: justify ; font-size: 1.8rem ; margin-top: 2rem ; line-height: 1.5\">\n",
    "Binde einen Vornamen als string an 'vorname'.\n",
    "</div>\n",
    "</div>"
   ]
  },
  {
   "cell_type": "code",
   "execution_count": null,
   "metadata": {},
   "outputs": [],
   "source": []
  },
  {
   "cell_type": "markdown",
   "metadata": {},
   "source": [
    "<h1 Style=\"font-size: 2rem\" >1.4</h1>\n",
    "<div Style=\"max-width: 85%\">\n",
    "<div Style=\"text-align: justify ; font-size: 1.8rem ; margin-top: 2rem ; line-height: 1.5\">\n",
    "Berechne den Rest aus 432858049 / 41 und binde das Ergebnis an 'modulo'\n",
    "</div>\n",
    "</div>"
   ]
  },
  {
   "cell_type": "code",
   "execution_count": null,
   "metadata": {},
   "outputs": [],
   "source": []
  },
  {
   "cell_type": "markdown",
   "metadata": {},
   "source": [
    "<h1 Style=\"font-size: 2rem\" >1.5</h1>\n",
    "<div Style=\"max-width: 85%\">\n",
    "<div Style=\"text-align: justify ; font-size: 1.8rem ; margin-top: 2rem ; line-height: 1.5\">\n",
    "Binde das Ergebnis der Summen aus x + 10 und y + 20 mit x,y - Werten deiner Wahl an den Namen 'summeXY'.<br>\n",
    "Die Zwischenergebnisse sollten nicht im globalen Sichtbarkeitsbereich (Scope) liegen.\n",
    "</div>\n",
    "</div>"
   ]
  },
  {
   "cell_type": "code",
   "execution_count": null,
   "metadata": {},
   "outputs": [],
   "source": []
  },
  {
   "cell_type": "markdown",
   "metadata": {},
   "source": [
    "<h1 Style=\"font-size: 2.25rem\" >Die \"printfn\" - Funktion</h1>\n",
    "<h1 Style=\"font-size: 2rem\" >Aufgabe 2</h1>\n",
    "<div Style=\"max-width: 85%\">\n",
    "<div Style=\"text-align: justify ; font-size: 1.8rem ; margin-top: 2rem ; line-height: 1.5\">\n",
    "Tipp:<a href=\"https://fsharpforfunandprofit.com/posts/printf/\">F# for fun and profit - printf</a>\n",
    "</div>\n",
    "<h1 Style=\"font-size: 2rem\" >2.1</h1>\n",
    "<div Style=\"max-width: 85%\">\n",
    "<div Style=\"text-align: justify ; font-size: 1.8rem ; margin-top: 2rem ; line-height: 1.5\">\n",
    "Benutze die printfn - Funktion um \"Hallo F#\" in die Konsole auszugeben.\n",
    "</div>\n",
    "</div>"
   ]
  },
  {
   "cell_type": "code",
   "execution_count": null,
   "metadata": {},
   "outputs": [],
   "source": []
  },
  {
   "cell_type": "markdown",
   "metadata": {},
   "source": [
    "<h1 Style=\"font-size: 2rem\" >2.2</h1>\n",
    "<div Style=\"max-width: 85%\">\n",
    "<div Style=\"text-align: justify ; font-size: 1.8rem ; margin-top: 2rem ; line-height: 1.5\">\n",
    "Benutze die printfn - Funktion um den Wert von 'vorname' in die Konsole auszugeben.\n",
    "</div>\n",
    "</div>"
   ]
  },
  {
   "cell_type": "code",
   "execution_count": null,
   "metadata": {},
   "outputs": [],
   "source": []
  },
  {
   "cell_type": "markdown",
   "metadata": {},
   "source": [
    "<h1 Style=\"font-size: 2rem\" >2.3</h1>\n",
    "<div Style=\"max-width: 85%\">\n",
    "<div Style=\"text-align: justify ; font-size: 1.8rem ; margin-top: 2rem ; line-height: 1.5\">\n",
    "Benutzt printfn um 'y' in die Konsole auszugeben.\n",
    "</div>\n",
    "</div>"
   ]
  },
  {
   "cell_type": "code",
   "execution_count": null,
   "metadata": {},
   "outputs": [],
   "source": []
  },
  {
   "cell_type": "markdown",
   "metadata": {},
   "source": [
    "<h1 Style=\"font-size: 2.25rem\" >Primitive Datentypen und Funktionen</h1>\n",
    "<h1 Style=\"font-size: 2rem\" >Aufgabe 3</h1>\n",
    "<h1 Style=\"font-size: 2rem\" >3.1</h1>\n",
    "<div Style=\"max-width: 85%\">\n",
    "<div Style=\"text-align: justify ; font-size: 1.8rem ; margin-top: 2rem ; line-height: 1.5\">\n",
    "Binde einen beliebigen Wert vom Typ Integer an den Namen intI.\n",
    "</div>\n",
    "</div>"
   ]
  },
  {
   "cell_type": "code",
   "execution_count": null,
   "metadata": {},
   "outputs": [],
   "source": []
  },
  {
   "cell_type": "markdown",
   "metadata": {},
   "source": [
    "<h1 Style=\"font-size: 2rem\" >3.2</h1>\n",
    "<div Style=\"max-width: 85%\">\n",
    "<div Style=\"text-align: justify ; font-size: 1.8rem ; margin-top: 2rem ; line-height: 1.5\">\n",
    "Binde einen beliebigen Wert vom Typ Float an den Namen floatI.\n",
    "</div>\n",
    "</div>"
   ]
  },
  {
   "cell_type": "code",
   "execution_count": null,
   "metadata": {},
   "outputs": [],
   "source": []
  },
  {
   "cell_type": "markdown",
   "metadata": {},
   "source": [
    "<h1 Style=\"font-size: 2rem\" >3.3</h1>\n",
    "<div Style=\"max-width: 85%\">\n",
    "<div Style=\"text-align: justify ; font-size: 1.8rem ; margin-top: 2rem ; line-height: 1.5\">\n",
    "Wandelt entweder intI oder floatI in den Datentyp des anderen um und addiert beide.\n",
    "</div>\n",
    "</div>"
   ]
  },
  {
   "cell_type": "code",
   "execution_count": null,
   "metadata": {},
   "outputs": [],
   "source": []
  },
  {
   "cell_type": "markdown",
   "metadata": {},
   "source": [
    "<h1 Style=\"font-size: 2rem\" >3.4</h1>\n",
    "<div Style=\"max-width: 85%\">\n",
    "<div Style=\"text-align: justify ; font-size: 1.8rem ; margin-top: 2rem ; line-height: 1.5\">\n",
    "Berechne den Quotienten aus '27' und '13'. Dann berechne den Quotienten von beiden Integern als Float.\n",
    "</div>\n",
    "</div>"
   ]
  },
  {
   "cell_type": "code",
   "execution_count": null,
   "metadata": {},
   "outputs": [],
   "source": []
  },
  {
   "cell_type": "markdown",
   "metadata": {},
   "source": [
    "<h1 Style=\"font-size: 2rem\" >3.5</h1>\n",
    "<div Style=\"max-width: 85%\">\n",
    "<div Style=\"text-align: justify ; font-size: 1.8rem ; margin-top: 2rem ; line-height: 1.5\">\n",
    "Konkateniere einen beliebigen Wert vom Typ String mit einem einzelnem Buchstaben (Typ Char)\n",
    "</div>\n",
    "</div>"
   ]
  },
  {
   "cell_type": "code",
   "execution_count": null,
   "metadata": {},
   "outputs": [],
   "source": []
  },
  {
   "cell_type": "markdown",
   "metadata": {},
   "source": [
    "<h1 Style=\"font-size: 2rem\" >3.6</h1>\n",
    "<div Style=\"max-width: 85%\">\n",
    "<div Style=\"text-align: justify ; font-size: 1.8rem ; margin-top: 2rem ; line-height: 1.5\">\n",
    "Deklariere eine Funktion 'mulitplyBy2' die einen float verdoppelt.\n",
    "</div>\n",
    "</div>"
   ]
  },
  {
   "cell_type": "code",
   "execution_count": null,
   "metadata": {},
   "outputs": [],
   "source": []
  },
  {
   "cell_type": "markdown",
   "metadata": {},
   "source": [
    "<h1 Style=\"font-size: 2rem\" >3.7</h1>\n",
    "<div Style=\"max-width: 85%\">\n",
    "<div Style=\"text-align: justify ; font-size: 1.8rem ; margin-top: 2rem ; line-height: 1.5\">\n",
    "Deklariere eine Funktion 'calculateCylinderVolume' die aus Radius und Länge das Volumen eines Zylinders\n",
    "zurückgibt UND zusätzlich \"Das Volumen des Zylinders ist: XX\" in die Konsole printed. Wobei XX natürlich\n",
    "das korrekte Volumen des Zylinders ist. (Der Output einer printfn Funktion ist Unit.)<br>\n",
    "Warum kann es Sinn machen, Ergebnisse zu printen?\n",
    "</div>\n",
    "</div>"
   ]
  },
  {
   "cell_type": "code",
   "execution_count": null,
   "metadata": {},
   "outputs": [],
   "source": []
  },
  {
   "cell_type": "markdown",
   "metadata": {},
   "source": [
    "<h1 Style=\"font-size: 2rem\" >3.8</h1>\n",
    "<div Style=\"max-width: 85%\">\n",
    "<div Style=\"text-align: justify ; font-size: 1.8rem ; margin-top: 2rem ; line-height: 1.5\">\n",
    "Deklariere eine Funktion die einen Parameter vom Typ Integer als Input nimmt und die 'multiplyBy2' \n",
    "Funktion darauf anwendet.\n",
    "</div>\n",
    "</div>"
   ]
  },
  {
   "cell_type": "code",
   "execution_count": null,
   "metadata": {},
   "outputs": [],
   "source": []
  },
  {
   "cell_type": "markdown",
   "metadata": {},
   "source": [
    "<h1 Style=\"font-size: 2rem\" >3.9</h1>\n",
    "<div Style=\"max-width: 85%\">\n",
    "<div Style=\"text-align: justify ; font-size: 1.8rem ; margin-top: 2rem ; line-height: 1.5\">\n",
    "Deklariere eine Funktion die als Input zwei Parameter vom Typ Floats, einen Vergleichsoperator z.B. \n",
    "(<, >, =), und einen Parameter vom Typ Boolean akzeptiert. Das Ergebnis aus der Anwendung des angegebenen \n",
    "Operators auf die numerischen Parameter soll mit dem Parameter vom Typ Boolean auf Gleichheit überprüft werden.\n",
    "</div>\n",
    "</div>"
   ]
  },
  {
   "cell_type": "code",
   "execution_count": null,
   "metadata": {},
   "outputs": [],
   "source": []
  }
 ],
 "metadata": {
  "kernelspec": {
   "display_name": "F#",
   "language": "fsharp",
   "name": "ifsharp"
  },
  "language": "fsharp",
  "language_info": {
   "codemirror_mode": "",
   "file_extension": ".fs",
   "mimetype": "text/x-fsharp",
   "name": "fsharp",
   "nbconvert_exporter": "",
   "pygments_lexer": "",
   "version": "4.3.1.0"
  }
 },
 "nbformat": 4,
 "nbformat_minor": 2
}
