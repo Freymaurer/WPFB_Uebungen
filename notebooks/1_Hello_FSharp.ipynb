{
 "cells": [
  {
   "cell_type": "markdown",
   "metadata": {},
   "source": [
    "# Übung 1 - Hello F#\n",
    "\n",
    "Erst einmal die absoluten Basics:"
   ]
  },
  {
   "cell_type": "code",
   "execution_count": 1,
   "metadata": {},
   "outputs": [
    {
     "data": {
      "text/plain": [
       "10"
      ]
     },
     "execution_count": 1,
     "metadata": {},
     "output_type": "execute_result"
    }
   ],
   "source": [
    "10"
   ]
  },
  {
   "cell_type": "markdown",
   "metadata": {},
   "source": [
    "Wählt den Kasten mit der '10' und drückt Strg+Enter, dann solltet ihr unter dem Kasten einen Output, der '10' sein sollte bekommen.<br>\n",
    "(Bei einzeiligem Code könnt ihr auch einfach die Zeile auswählen und Alt+Enter drücken ohne das alles markiert ist.)<br>\n",
    "Auf diese Weise könnte ihr Code den ihr geschrieben habt, direkt testen und euch den Output ansehen.<br><br>\n",
    "Versucht das mal mit der folgenden Zeile und ihr werdet sehen, dass das Ergebnis direkt ausgerechnet wird und '30' ist."
   ]
  },
  {
   "cell_type": "code",
   "execution_count": 2,
   "metadata": {},
   "outputs": [
    {
     "data": {
      "text/plain": [
       "30"
      ]
     },
     "execution_count": 2,
     "metadata": {},
     "output_type": "execute_result"
    }
   ],
   "source": [
    "10 + 20"
   ]
  },
  {
   "cell_type": "markdown",
   "metadata": {},
   "source": [
    "Alles was ihr hinter \"//\" und zwischen (*..*) schreibt ist ein Kommentar und wird nicht als Code ausgeführt."
   ]
  },
  {
   "cell_type": "code",
   "execution_count": 3,
   "metadata": {},
   "outputs": [
    {
     "data": {
      "text/plain": [
       "40"
      ]
     },
     "execution_count": 3,
     "metadata": {},
     "output_type": "execute_result"
    }
   ],
   "source": [
    "10 (*+ 40 *) + 30 // + 10"
   ]
  },
  {
   "cell_type": "markdown",
   "metadata": {},
   "source": [
    "## Aufgaben für Übung 1\n",
    "\n",
    "Solltet ihr bei einer Übung nicht auf die Lösung kommen, lasst auf jeden Fall euren Lösungsansatz stehen!\n",
    "\n",
    "### Das 'let' - Binding\n",
    "#### Aufgabe 1\n",
    "#### 1.1\n",
    "Binde den Wert 10 an den Namen 'x'. Binde den Wert 20 an den Namen 'kaesebrot'."
   ]
  },
  {
   "cell_type": "code",
   "execution_count": null,
   "metadata": {},
   "outputs": [],
   "source": []
  },
  {
   "cell_type": "markdown",
   "metadata": {},
   "source": [
    "#### 1.2\n",
    "Binde das Ergebnis der Addition von 'x' mit dem Wert 10 an 'y'."
   ]
  },
  {
   "cell_type": "code",
   "execution_count": null,
   "metadata": {},
   "outputs": [],
   "source": []
  },
  {
   "cell_type": "markdown",
   "metadata": {},
   "source": [
    "#### 1.3\n",
    "Binde einen Vornamen als string an 'vorname'."
   ]
  },
  {
   "cell_type": "code",
   "execution_count": null,
   "metadata": {},
   "outputs": [],
   "source": []
  },
  {
   "cell_type": "markdown",
   "metadata": {},
   "source": [
    "#### 1.4\n",
    "Berechne den Rest aus 432858049/41 und binde das Ergebnis an 'modulo'"
   ]
  },
  {
   "cell_type": "code",
   "execution_count": null,
   "metadata": {},
   "outputs": [],
   "source": []
  },
  {
   "cell_type": "markdown",
   "metadata": {},
   "source": [
    "#### 1.5\n",
    "Binde das Ergebnis der Summen aus x + 10 und y + 20 mit x,y - Werten deiner Wahl an den Namen 'summeXY'.<br>\n",
    "Die Zwischenergebnisse sollten nicht im globalen Sichtbarkeitsbereich (Scope) liegen."
   ]
  },
  {
   "cell_type": "code",
   "execution_count": null,
   "metadata": {},
   "outputs": [],
   "source": []
  },
  {
   "cell_type": "markdown",
   "metadata": {},
   "source": [
    "### Die \"printfn\" - Funktion\n",
    "#### Aufgabe 2\n",
    "Tipp: [F# for fun and profit - printf](https://fsharpforfunandprofit.com/posts/printf/)\n",
    "#### 2.1\n",
    "Benutze die printfn - Funktion um \"Hallo F#\" in die Konsole auszugeben."
   ]
  },
  {
   "cell_type": "code",
   "execution_count": null,
   "metadata": {},
   "outputs": [],
   "source": []
  },
  {
   "cell_type": "markdown",
   "metadata": {},
   "source": [
    "#### 2.2\n",
    "Benutze die printfn - Funktion um den Wert von 'vorname' in die Konsole auszugeben."
   ]
  },
  {
   "cell_type": "code",
   "execution_count": null,
   "metadata": {},
   "outputs": [],
   "source": []
  },
  {
   "cell_type": "markdown",
   "metadata": {},
   "source": [
    "#### 2.3\n",
    "Benutzt printfn um 'y' in die Konsole auszugeben."
   ]
  },
  {
   "cell_type": "code",
   "execution_count": null,
   "metadata": {},
   "outputs": [],
   "source": []
  },
  {
   "cell_type": "markdown",
   "metadata": {},
   "source": [
    "### Primitive Datentypen und Funktionen\n",
    "#### Aufgabe 3\n",
    "#### 3.1\n",
    "Binde einen beliebigen Wert vom Typ Integer an den Namen intI."
   ]
  },
  {
   "cell_type": "code",
   "execution_count": null,
   "metadata": {},
   "outputs": [],
   "source": []
  },
  {
   "cell_type": "markdown",
   "metadata": {},
   "source": [
    "#### 3.2\n",
    "Binde einen beliebigen Wert vom Typ Float an den Namen floatI."
   ]
  },
  {
   "cell_type": "code",
   "execution_count": null,
   "metadata": {},
   "outputs": [],
   "source": []
  },
  {
   "cell_type": "markdown",
   "metadata": {},
   "source": [
    "#### 3.3\n",
    "Wandelt entweder intI oder floatI in den Datentyp des anderen um und addiert beide."
   ]
  },
  {
   "cell_type": "code",
   "execution_count": null,
   "metadata": {},
   "outputs": [],
   "source": []
  },
  {
   "cell_type": "markdown",
   "metadata": {},
   "source": [
    "#### 3.4\n",
    "Berechne den Quotienten aus '27' und '13'. Dann berechne den Quotienten von beiden Integern als Float."
   ]
  },
  {
   "cell_type": "code",
   "execution_count": null,
   "metadata": {},
   "outputs": [],
   "source": []
  },
  {
   "cell_type": "markdown",
   "metadata": {},
   "source": [
    "#### 3.5\n",
    "Konkateniere einen beliebigen Wert vom Typ String mit einem einzelnem Buchstaben (Typ Char)"
   ]
  },
  {
   "cell_type": "code",
   "execution_count": null,
   "metadata": {},
   "outputs": [],
   "source": []
  },
  {
   "cell_type": "markdown",
   "metadata": {},
   "source": [
    "#### 3.6\n",
    "Deklariere eine Funktion 'mulitplyBy2' die einen float verdoppelt. "
   ]
  },
  {
   "cell_type": "code",
   "execution_count": null,
   "metadata": {},
   "outputs": [],
   "source": []
  },
  {
   "cell_type": "markdown",
   "metadata": {},
   "source": [
    "#### 3.7\n",
    "Deklariere eine Funktion 'calculateCylinderVolume' die aus Radius und Länge das Volumen eines Zylinders\n",
    "zurückgibt UND zusätzlich \"Das Volumen des Zylinders ist: XX\" in die Konsole printed. Wobei XX natürlich\n",
    "das korrekte Volumen des Zylinders ist. (Der Output einer printfn Funktion ist Unit.)<br>\n",
    "Warum kann es Sinn machen, Ergebnisse zu printen?"
   ]
  },
  {
   "cell_type": "code",
   "execution_count": null,
   "metadata": {},
   "outputs": [],
   "source": []
  },
  {
   "cell_type": "markdown",
   "metadata": {},
   "source": [
    "#### 3.8\n",
    "Deklariere eine Funktion die einen Parameter vom Typ Integer als Input nimmt und die 'multiplyBy2' \n",
    "Funktion darauf anwendet"
   ]
  },
  {
   "cell_type": "code",
   "execution_count": null,
   "metadata": {},
   "outputs": [],
   "source": []
  },
  {
   "cell_type": "markdown",
   "metadata": {},
   "source": [
    "#### 3.9\n",
    "Deklariere eine Funktion die als Input zwei Parameter vom Typ Floats, einen Vergleichsoperator z.B. \n",
    "(<, >, = ), und einen Parameter vom Typ Boolean akzeptiert. Das Ergebnis aus der Anwendung des angegebenen \n",
    "Operators auf die numerischen Parameter soll mit dem Parameter vom Typ Boolean auf Gleichheit überprüft werden."
   ]
  },
  {
   "cell_type": "code",
   "execution_count": null,
   "metadata": {},
   "outputs": [],
   "source": []
  }
 ],
 "metadata": {
  "kernelspec": {
   "display_name": "F#",
   "language": "fsharp",
   "name": "ifsharp"
  },
  "language": "fsharp",
  "language_info": {
   "codemirror_mode": "",
   "file_extension": ".fs",
   "mimetype": "text/x-fsharp",
   "name": "fsharp",
   "nbconvert_exporter": "",
   "pygments_lexer": "",
   "version": "4.3.1.0"
  }
 },
 "nbformat": 4,
 "nbformat_minor": 2
}
