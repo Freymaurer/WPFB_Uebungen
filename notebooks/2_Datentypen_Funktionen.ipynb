{
 "cells": [
  {
   "cell_type": "markdown",
   "metadata": {},
   "source": [
    "<h1 Style=\"font-size: 3rem\" >Übung 2 - Datentypen und Funktionen</h1>\n",
    "\n",
    "1. [Tuples](#Tuples)\n",
    "2. [Record Types](#Record-Types)\n",
    "3. [Functional Composition](#Functional-Composition)\n",
    "4. [Higher Order Functions](#Higher-Order-Functions)\n",
    "\n",
    "<div Style=\"max-width: 85%\">\n",
    "<div Style=\"text-align: justify ; font-size: 1.8rem ; margin-top: 2rem ; line-height: 1.5\">\n",
    "Solltet ihr bei einer Übung nicht auf die Lösung kommen, lasst auf jeden Fall euren Lösungsansatz stehen!\n",
    "</div>\n",
    "</div>"
   ]
  },
  {
   "cell_type": "markdown",
   "metadata": {},
   "source": [
    "<h1 Style=\"font-size: 2.25rem\" >Tuples</h1>\n",
    "\n",
    "<h1 Style=\"font-size: 2rem\" >Aufgabe 1</h1>\n",
    "<h1 Style=\"font-size: 2rem\" >1.1</h1>\n",
    "<div Style=\"max-width: 85%\">\n",
    "<div Style=\"text-align: justify ; font-size: 1.8rem ; margin-top: 2rem ; line-height: 1.5\">\n",
    "Deklariere einen Tuple aus dem float 2. und dem string \"Februar\" und bindet den Tuple an den Namen 'tuple1'.\n",
    "</div>\n",
    "</div>"
   ]
  },
  {
   "cell_type": "code",
   "execution_count": null,
   "metadata": {},
   "outputs": [],
   "source": []
  },
  {
   "cell_type": "markdown",
   "metadata": {},
   "source": [
    "<h1 Style=\"font-size: 2rem\" >1.2</h1>\n",
    "<div Style=\"max-width: 85%\">\n",
    "<div Style=\"text-align: justify ; font-size: 1.8rem ; margin-top: 2rem ; line-height: 1.5\">\n",
    "Deklariere einen Tuple aus 2., \"Februar\" und \"Fruehling\" und bindet ihn an den Namen 'tuple2'.\n",
    "</div>\n",
    "</div>"
   ]
  },
  {
   "cell_type": "code",
   "execution_count": null,
   "metadata": {},
   "outputs": [],
   "source": []
  },
  {
   "cell_type": "markdown",
   "metadata": {},
   "source": [
    "<h1 Style=\"font-size: 2rem\" >1.3</h1>\n",
    "<div Style=\"max-width: 85%\">\n",
    "<div Style=\"text-align: justify ; font-size: 1.8rem ; margin-top: 2rem ; line-height: 1.5\">\n",
    "Greife auf die zweite Variable des Tuples aus 1.1 zu.\n",
    "</div>\n",
    "</div>"
   ]
  },
  {
   "cell_type": "code",
   "execution_count": null,
   "metadata": {},
   "outputs": [],
   "source": []
  },
  {
   "cell_type": "markdown",
   "metadata": {},
   "source": [
    "<h1 Style=\"font-size: 2rem\" >1.4</h1>\n",
    "<div Style=\"max-width: 85%\">\n",
    "<div Style=\"text-align: justify ; font-size: 1.8rem ; margin-top: 2rem ; line-height: 1.5\">\n",
    "Greife auf die zweite Variable des Tuples aus 1.2 zu.\n",
    "</div>\n",
    "</div>"
   ]
  },
  {
   "cell_type": "code",
   "execution_count": null,
   "metadata": {},
   "outputs": [],
   "source": []
  },
  {
   "cell_type": "markdown",
   "metadata": {},
   "source": [
    "<h1 Style=\"font-size: 2rem\" >1.5</h1>\n",
    "<div Style=\"max-width: 85%\">\n",
    "<div Style=\"text-align: justify ; font-size: 1.8rem ; margin-top: 2rem ; line-height: 1.5\">\n",
    "Bindet 'tuple1' aus Task 1.1 an: (output1,output2). Warum kann das sinnvoll sein?<br>\n",
    "</div>\n",
    "<div Style=\"text-align: justify ; font-size: 1.8rem ; margin-top: 2rem ; line-height: 1.5\">\n",
    "Stichwort: Tuple Deconstruction\n",
    "</div>\n",
    "</div>"
   ]
  },
  {
   "cell_type": "code",
   "execution_count": null,
   "metadata": {},
   "outputs": [],
   "source": []
  },
  {
   "cell_type": "markdown",
   "metadata": {},
   "source": [
    "<h1 Style=\"font-size: 2.25rem\" >Record Types</h1>\n",
    "\n",
    "<h1 Style=\"font-size: 2rem\" >Aufgabe 2</h1>\n",
    "<h1 Style=\"font-size: 2rem\" >2.1</h1>\n",
    "<div Style=\"max-width: 85%\">\n",
    "<div Style=\"text-align: justify ; font-size: 1.8rem ; margin-top: 2rem ; line-height: 1.5\">\n",
    "Definiere einen Record Type mit dem Namen 'Person1'. Person1 soll die Felder 'Name'(string) und 'Alter'(int) haben.\n",
    "Bei Record Types wird kein camel case, sondern pascal case verwendet (wie camel case nur ist der erste Buchstabe auch groß).\n",
    "</div>\n",
    "</div>"
   ]
  },
  {
   "cell_type": "code",
   "execution_count": null,
   "metadata": {},
   "outputs": [],
   "source": []
  },
  {
   "cell_type": "markdown",
   "metadata": {},
   "source": [
    "<h1 Style=\"font-size: 2rem\" >2.2</h1>\n",
    "<div Style=\"max-width: 85%\">\n",
    "<div Style=\"text-align: justify ; font-size: 1.8rem ; margin-top: 2rem ; line-height: 1.5\">\n",
    "Definiere einen weiteren Record Type mit dem Namen 'Person2'. Person2 soll die gleichen Felder wie Person1\n",
    "haben, bekommt aber noch das zusaetzliche Feld 'Hobby'. Da man alles zu seinem Hobby machen kann, soll\n",
    "'Hobby' vom Typ generic type sein.\n",
    "</div>\n",
    "</div>"
   ]
  },
  {
   "cell_type": "code",
   "execution_count": null,
   "metadata": {},
   "outputs": [],
   "source": []
  },
  {
   "cell_type": "markdown",
   "metadata": {},
   "source": [
    "<h1 Style=\"font-size: 2rem\" >2.3</h1>\n",
    "<div Style=\"max-width: 85%\">\n",
    "<div Style=\"text-align: justify ; font-size: 1.8rem ; margin-top: 2rem ; line-height: 1.5\">\n",
    "Deklariere eine Funktion 'createPerson1' die zwei Inputparameter erhaelt und als Rueckgabewert eine Person1 gibt.\n",
    "Dann erstelle mit Hilfe dieser Funktion eine 'Person1' und binde sie an den Namen 'myPerson1'.\n",
    "</div>\n",
    "</div>"
   ]
  },
  {
   "cell_type": "code",
   "execution_count": null,
   "metadata": {},
   "outputs": [],
   "source": []
  },
  {
   "cell_type": "markdown",
   "metadata": {},
   "source": [
    "<h1 Style=\"font-size: 2rem\" >2.4</h1>\n",
    "<div Style=\"max-width: 85%\">\n",
    "<div Style=\"text-align: justify ; font-size: 1.8rem ; margin-top: 2rem ; line-height: 1.5\">\n",
    "Deklariere eine Funktion 'createPerson2' die drei Inputparameter erhaelt und als Rueckgabewert eine Person2 gibt.\n",
    "Dann binde ein Ergebnis dieser Funktion an den Namen 'myPerson2'. Benutze als Input fuer die Felder,\n",
    "die auch bei Person1 existieren, die Werte von meinePerson1.\n",
    "</div>\n",
    "</div>"
   ]
  },
  {
   "cell_type": "code",
   "execution_count": null,
   "metadata": {},
   "outputs": [],
   "source": []
  },
  {
   "cell_type": "markdown",
   "metadata": {},
   "source": [
    "<h1 Style=\"font-size: 2.25rem\" >Functional Composition</h1>\n",
    "\n",
    "<h1 Style=\"font-size: 2rem\" >Aufgabe 3</h1>\n",
    "<h1 Style=\"font-size: 2rem\" >3.1</h1>\n",
    "<div Style=\"max-width: 85%\">\n",
    "<div Style=\"text-align: justify ; font-size: 1.8rem ; margin-top: 2rem ; line-height: 1.5\">\n",
    "Die Funktion 'calculate' soll zwei Floats x und y miteinander verrechnen. Dafuer soll zuerst x - y berechnet werden und die\n",
    "daraus entstehende Differenz soll verdoppelt werden.\n",
    "</div>\n",
    "<div Style=\"text-align: justify ; font-size: 1.8rem ; margin-top: 2rem ; line-height: 1.5\">\n",
    "Aber irgendentwas stimmt mit dem Ergebnis nicht. Ueberlege warum und korrigiere die Aufgabe ohne die Operatoren zu aendern.\n",
    "</div>\n",
    "</div>"
   ]
  },
  {
   "cell_type": "code",
   "execution_count": 4,
   "metadata": {},
   "outputs": [],
   "source": [
    "let calculate x y =\n",
    "    x\n",
    "    |> (-) y\n",
    "    // ignoriert die Verfärbung der Klammer des '(*)' Operators. Das ist ein anzeige Fehler von Jupyter. \n",
    "    // (Verwechslung mit multi-line Kommentar '(*..*)') \n",
    "    |> (*) 2.\n",
    "    //*)\n",
    "\n",
    "// Lösung:\n",
    "\n"
   ]
  },
  {
   "cell_type": "markdown",
   "metadata": {},
   "source": [
    "<h1 Style=\"font-size: 2rem\" >3.2</h1>\n",
    "<div Style=\"max-width: 85%\">\n",
    "<div Style=\"text-align: justify ; font-size: 1.8rem ; margin-top: 2rem ; line-height: 1.5\">\n",
    "Schreibe die folgende Funktion so um, dass sie den 'Compose' statt dem 'Pipe' Operator verwendet.\n",
    "</div>\n",
    "</div>"
   ]
  },
  {
   "cell_type": "code",
   "execution_count": 5,
   "metadata": {},
   "outputs": [],
   "source": [
    "let chainOfCalculations x =\n",
    "    x\n",
    "    |> int\n",
    "    |> (*) 2\n",
    "    //*)\n",
    "    \n",
    "// Lösung:\n",
    "\n"
   ]
  },
  {
   "cell_type": "markdown",
   "metadata": {},
   "source": [
    "<h1 Style=\"font-size: 2rem\" >3.3</h1>\n",
    "<div Style=\"max-width: 85%\">\n",
    "<div Style=\"text-align: justify ; font-size: 1.8rem ; margin-top: 2rem ; line-height: 1.5\">\n",
    "Deklariere eine Funktion mit 3 Inputparametern. Zwei davon sollen generischen Funktionen sein und einer ein generischer Wert.\n",
    "Die Funktion soll die gleiche Funktionalitaet wie der Compose Operator (>>) besitzen.\n",
    "</div>\n",
    "<div Style=\"text-align: justify ; font-size: 1.8rem ; margin-top: 2rem ; line-height: 1.5\">\n",
    "    Beispiel: <code>compose fun1 fun2 wert = (fun1 >> fun2) wert</code>\n",
    "</div>\n",
    "</div>"
   ]
  },
  {
   "cell_type": "code",
   "execution_count": null,
   "metadata": {},
   "outputs": [],
   "source": []
  },
  {
   "cell_type": "markdown",
   "metadata": {},
   "source": [
    "<h1 Style=\"font-size: 2rem\" >3.4</h1>\n",
    "<div Style=\"max-width: 85%\">\n",
    "<div Style=\"text-align: justify ; font-size: 1.8rem ; margin-top: 2rem ; line-height: 1.5\">\n",
    "Oh nein, die folgende Funktion ist ja total unleserlich! Schreib sie neu mit Pipe Operatoren!\n",
    "</div>\n",
    "<div Style=\"text-align: justify ; font-size: 1.8rem ; margin-top: 2rem ; line-height: 1.5\">\n",
    "Tipp: ihr könnt das Ergebnis eurer leserlichen Funktion mit dem der unleserlichen Vergleichen, um grob zu überprüfen ob ihr alles richtig gemacht habt.\n",
    "</div>\n",
    "</div>"
   ]
  },
  {
   "cell_type": "code",
   "execution_count": 7,
   "metadata": {},
   "outputs": [],
   "source": [
    "let unleserlicheFunktion x = (System.Double.Parse ((string(((*) 2. ((fun value -> value * 2.) x))**2.)) + \"14\"))\n",
    "\n",
    "// Lösung\n",
    "\n"
   ]
  },
  {
   "cell_type": "markdown",
   "metadata": {},
   "source": [
    "<h1 Style=\"font-size: 2.25rem\" >Higher Order Functions</h1>\n",
    "\n",
    "<h1 Style=\"font-size: 2rem\" >Aufgabe 4</h1>\n",
    "<h1 Style=\"font-size: 2rem\" >4.1</h1>\n",
    "<div Style=\"max-width: 85%\">\n",
    "<div Style=\"text-align: justify ; font-size: 1.8rem ; margin-top: 2rem ; line-height: 1.5\">\n",
    "Deklariere eine anonyme Funktion die zwei Parameter bekommt und sie addiert. Binde sie an den Namen 'add'. Wende 'add' auf zwei Integer an.\n",
    "</div>\n",
    "</div>"
   ]
  },
  {
   "cell_type": "code",
   "execution_count": null,
   "metadata": {},
   "outputs": [],
   "source": []
  }
 ],
 "metadata": {
  "kernelspec": {
   "display_name": "F#",
   "language": "fsharp",
   "name": "ifsharp"
  },
  "language": "fsharp",
  "language_info": {
   "codemirror_mode": "",
   "file_extension": ".fs",
   "mimetype": "text/x-fsharp",
   "name": "fsharp",
   "nbconvert_exporter": "",
   "pygments_lexer": "",
   "version": "4.3.1.0"
  }
 },
 "nbformat": 4,
 "nbformat_minor": 2
}
